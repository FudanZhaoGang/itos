{
 "cells": [
  {
   "cell_type": "code",
   "execution_count": 1,
   "metadata": {},
   "outputs": [],
   "source": [
    "import random\n",
    "import torch\n",
    "import numpy as np\n",
    "import torch.nn as nn\n",
    "from config import Config\n",
    "from dataset import IntentionDataset\n",
    "from torch.utils.data import DataLoader\n",
    "from model import Bert\n",
    "from tqdm import tqdm"
   ]
  },
  {
   "cell_type": "code",
   "execution_count": 2,
   "metadata": {},
   "outputs": [],
   "source": [
    "index = [i for i in range(Config.dataset_size)]\n",
    "random.shuffle(index)\n",
    "train_index = index[:-100]\n",
    "test_index = index[-100:]"
   ]
  },
  {
   "cell_type": "code",
   "execution_count": 3,
   "metadata": {},
   "outputs": [],
   "source": [
    "train_dataset = IntentionDataset(Config, train_index)\n",
    "test_dataset = IntentionDataset(Config, test_index)"
   ]
  },
  {
   "cell_type": "code",
   "execution_count": 4,
   "metadata": {},
   "outputs": [],
   "source": [
    "train_dataloader = DataLoader(train_dataset, batch_size = Config.batch_size, shuffle = True)\n",
    "test_dataloader = DataLoader(test_dataset, batch_size = Config.batch_size, shuffle = False)"
   ]
  },
  {
   "cell_type": "code",
   "execution_count": 5,
   "metadata": {},
   "outputs": [
    {
     "data": {
      "text/plain": [
       "[('暂时不需要了',\n",
       "  '我不知道怎么签',\n",
       "  '我不想要这玩意',\n",
       "  '肯定不买',\n",
       "  '请直说',\n",
       "  '对的。',\n",
       "  '搞错了',\n",
       "  '有事，不方便',\n",
       "  '不可以',\n",
       "  '他是谁啊',\n",
       "  '嗯哼',\n",
       "  '不喜欢',\n",
       "  '我没有没时间',\n",
       "  '这个让人很纠结',\n",
       "  '我无法转告他',\n",
       "  '不可以',\n",
       "  '没有看到啊',\n",
       "  '我现在没有时间',\n",
       "  '放弃了',\n",
       "  '把它发个我吧',\n",
       "  '短信没收到啊',\n",
       "  '不明白',\n",
       "  '我需要考虑清楚',\n",
       "  '不可以的，再见',\n",
       "  '我没有时间',\n",
       "  '我都不知道有没有此人',\n",
       "  '别来烦我好不好',\n",
       "  '抱歉，我没有空',\n",
       "  '不可以',\n",
       "  '十分纠结',\n",
       "  '别发了',\n",
       "  '等下我看看产品信息'),\n",
       " tensor([4, 3, 4, 4, 1, 1, 0, 2, 4, 0, 3, 4, 4, 5, 4, 4, 3, 4, 4, 3, 3, 5, 5, 4,\n",
       "         4, 0, 4, 4, 4, 5, 4, 3])]"
      ]
     },
     "execution_count": 5,
     "metadata": {},
     "output_type": "execute_result"
    }
   ],
   "source": [
    "next(iter(train_dataloader))"
   ]
  },
  {
   "cell_type": "code",
   "execution_count": 6,
   "metadata": {},
   "outputs": [],
   "source": [
    "device = Config.device"
   ]
  },
  {
   "cell_type": "code",
   "execution_count": 6,
   "metadata": {},
   "outputs": [
    {
     "name": "stderr",
     "output_type": "stream",
     "text": [
      "Some weights of the model checkpoint at chinese-bert were not used when initializing BertModel: ['cls.predictions.decoder.weight', 'cls.seq_relationship.bias', 'cls.seq_relationship.weight', 'cls.predictions.transform.dense.weight', 'cls.predictions.transform.LayerNorm.weight', 'cls.predictions.bias', 'cls.predictions.transform.dense.bias', 'cls.predictions.transform.LayerNorm.bias']\n",
      "- This IS expected if you are initializing BertModel from the checkpoint of a model trained on another task or with another architecture (e.g. initializing a BertForSequenceClassification model from a BertForPreTraining model).\n",
      "- This IS NOT expected if you are initializing BertModel from the checkpoint of a model that you expect to be exactly identical (initializing a BertForSequenceClassification model from a BertForSequenceClassification model).\n"
     ]
    }
   ],
   "source": [
    "model = Bert(Config).to(device)"
   ]
  },
  {
   "cell_type": "code",
   "execution_count": 7,
   "metadata": {},
   "outputs": [],
   "source": [
    "criterion = nn.CrossEntropyLoss()"
   ]
  },
  {
   "cell_type": "code",
   "execution_count": 8,
   "metadata": {},
   "outputs": [],
   "source": [
    "params_dict = [{'params': model.bert.parameters(), 'lr': 5e-5}, {'params': model.linear.parameters(), 'lr': 1e-3}]\n",
    "optimizer = torch.optim.Adam(params_dict)"
   ]
  },
  {
   "cell_type": "code",
   "execution_count": 9,
   "metadata": {},
   "outputs": [
    {
     "name": "stderr",
     "output_type": "stream",
     "text": [
      "100%|██████████| 25/25 [00:03<00:00,  7.53it/s]\n",
      " 20%|██        | 5/25 [00:00<00:00, 41.55it/s]"
     ]
    },
    {
     "name": "stdout",
     "output_type": "stream",
     "text": [
      "Epoch: 1, Train loss: 1.1732, Train accuracy: 0.5959\n"
     ]
    },
    {
     "name": "stderr",
     "output_type": "stream",
     "text": [
      "100%|██████████| 25/25 [00:00<00:00, 46.91it/s]\n"
     ]
    },
    {
     "name": "stdout",
     "output_type": "stream",
     "text": [
      "Epoch: 1, Test loss: 0.3835, Test accuracy: 0.8780\n",
      "saving best model...\n"
     ]
    },
    {
     "name": "stderr",
     "output_type": "stream",
     "text": [
      "100%|██████████| 25/25 [00:02<00:00,  9.41it/s]\n",
      " 16%|█▌        | 4/25 [00:00<00:00, 37.56it/s]"
     ]
    },
    {
     "name": "stdout",
     "output_type": "stream",
     "text": [
      "Epoch: 2, Train loss: 0.3692, Train accuracy: 0.8831\n"
     ]
    },
    {
     "name": "stderr",
     "output_type": "stream",
     "text": [
      "100%|██████████| 25/25 [00:00<00:00, 43.71it/s]\n"
     ]
    },
    {
     "name": "stdout",
     "output_type": "stream",
     "text": [
      "Epoch: 2, Test loss: 0.2156, Test accuracy: 0.8996\n",
      "saving best model...\n"
     ]
    },
    {
     "name": "stderr",
     "output_type": "stream",
     "text": [
      "100%|██████████| 25/25 [00:03<00:00,  8.06it/s]\n",
      " 20%|██        | 5/25 [00:00<00:00, 43.15it/s]"
     ]
    },
    {
     "name": "stdout",
     "output_type": "stream",
     "text": [
      "Epoch: 3, Train loss: 0.2297, Train accuracy: 0.9263\n"
     ]
    },
    {
     "name": "stderr",
     "output_type": "stream",
     "text": [
      "100%|██████████| 25/25 [00:00<00:00, 46.90it/s]\n"
     ]
    },
    {
     "name": "stdout",
     "output_type": "stream",
     "text": [
      "Epoch: 3, Test loss: 0.2133, Test accuracy: 0.9263\n",
      "saving best model...\n"
     ]
    },
    {
     "name": "stderr",
     "output_type": "stream",
     "text": [
      "100%|██████████| 25/25 [00:03<00:00,  7.84it/s]\n",
      " 20%|██        | 5/25 [00:00<00:00, 49.17it/s]"
     ]
    },
    {
     "name": "stdout",
     "output_type": "stream",
     "text": [
      "Epoch: 4, Train loss: 0.2582, Train accuracy: 0.9085\n"
     ]
    },
    {
     "name": "stderr",
     "output_type": "stream",
     "text": [
      "100%|██████████| 25/25 [00:00<00:00, 49.42it/s]\n"
     ]
    },
    {
     "name": "stdout",
     "output_type": "stream",
     "text": [
      "Epoch: 4, Test loss: 0.1648, Test accuracy: 0.9377\n",
      "saving best model...\n"
     ]
    },
    {
     "name": "stderr",
     "output_type": "stream",
     "text": [
      "100%|██████████| 25/25 [00:03<00:00,  7.34it/s]\n",
      " 16%|█▌        | 4/25 [00:00<00:00, 35.08it/s]"
     ]
    },
    {
     "name": "stdout",
     "output_type": "stream",
     "text": [
      "Epoch: 5, Train loss: 0.1997, Train accuracy: 0.9314\n"
     ]
    },
    {
     "name": "stderr",
     "output_type": "stream",
     "text": [
      "100%|██████████| 25/25 [00:00<00:00, 34.70it/s]\n"
     ]
    },
    {
     "name": "stdout",
     "output_type": "stream",
     "text": [
      "Epoch: 5, Test loss: 0.1517, Test accuracy: 0.9454\n",
      "saving best model...\n"
     ]
    },
    {
     "name": "stderr",
     "output_type": "stream",
     "text": [
      "100%|██████████| 25/25 [00:03<00:00,  7.69it/s]\n",
      " 12%|█▏        | 3/25 [00:00<00:00, 23.07it/s]"
     ]
    },
    {
     "name": "stdout",
     "output_type": "stream",
     "text": [
      "Epoch: 6, Train loss: 0.1760, Train accuracy: 0.9377\n"
     ]
    },
    {
     "name": "stderr",
     "output_type": "stream",
     "text": [
      "100%|██████████| 25/25 [00:00<00:00, 28.76it/s]\n",
      "  4%|▍         | 1/25 [00:00<00:03,  7.06it/s]"
     ]
    },
    {
     "name": "stdout",
     "output_type": "stream",
     "text": [
      "Epoch: 6, Test loss: 0.1638, Test accuracy: 0.9377\n"
     ]
    },
    {
     "name": "stderr",
     "output_type": "stream",
     "text": [
      "100%|██████████| 25/25 [00:02<00:00,  9.03it/s]\n",
      " 20%|██        | 5/25 [00:00<00:00, 48.73it/s]"
     ]
    },
    {
     "name": "stdout",
     "output_type": "stream",
     "text": [
      "Epoch: 7, Train loss: 0.1861, Train accuracy: 0.9263\n"
     ]
    },
    {
     "name": "stderr",
     "output_type": "stream",
     "text": [
      "100%|██████████| 25/25 [00:00<00:00, 35.37it/s]\n"
     ]
    },
    {
     "name": "stdout",
     "output_type": "stream",
     "text": [
      "Epoch: 7, Test loss: 0.1254, Test accuracy: 0.9466\n",
      "saving best model...\n"
     ]
    },
    {
     "name": "stderr",
     "output_type": "stream",
     "text": [
      "100%|██████████| 25/25 [00:03<00:00,  7.68it/s]\n",
      " 12%|█▏        | 3/25 [00:00<00:00, 25.29it/s]"
     ]
    },
    {
     "name": "stdout",
     "output_type": "stream",
     "text": [
      "Epoch: 8, Train loss: 0.1482, Train accuracy: 0.9416\n"
     ]
    },
    {
     "name": "stderr",
     "output_type": "stream",
     "text": [
      "100%|██████████| 25/25 [00:00<00:00, 31.18it/s]\n",
      "  4%|▍         | 1/25 [00:00<00:02,  8.35it/s]"
     ]
    },
    {
     "name": "stdout",
     "output_type": "stream",
     "text": [
      "Epoch: 8, Test loss: 0.1600, Test accuracy: 0.9263\n"
     ]
    },
    {
     "name": "stderr",
     "output_type": "stream",
     "text": [
      "100%|██████████| 25/25 [00:02<00:00,  8.90it/s]\n",
      " 12%|█▏        | 3/25 [00:00<00:00, 27.00it/s]"
     ]
    },
    {
     "name": "stdout",
     "output_type": "stream",
     "text": [
      "Epoch: 9, Train loss: 0.1530, Train accuracy: 0.9428\n"
     ]
    },
    {
     "name": "stderr",
     "output_type": "stream",
     "text": [
      "100%|██████████| 25/25 [00:00<00:00, 34.61it/s]\n"
     ]
    },
    {
     "name": "stdout",
     "output_type": "stream",
     "text": [
      "Epoch: 9, Test loss: 0.1158, Test accuracy: 0.9517\n",
      "saving best model...\n"
     ]
    },
    {
     "name": "stderr",
     "output_type": "stream",
     "text": [
      "100%|██████████| 25/25 [00:03<00:00,  7.56it/s]\n",
      " 12%|█▏        | 3/25 [00:00<00:00, 27.18it/s]"
     ]
    },
    {
     "name": "stdout",
     "output_type": "stream",
     "text": [
      "Epoch: 10, Train loss: 0.1299, Train accuracy: 0.9479\n"
     ]
    },
    {
     "name": "stderr",
     "output_type": "stream",
     "text": [
      "100%|██████████| 25/25 [00:00<00:00, 32.61it/s]"
     ]
    },
    {
     "name": "stdout",
     "output_type": "stream",
     "text": [
      "Epoch: 10, Test loss: 0.1083, Test accuracy: 0.9504\n",
      "Training Done. Best test accuracy: 0.9517\n"
     ]
    },
    {
     "name": "stderr",
     "output_type": "stream",
     "text": [
      "\n"
     ]
    }
   ],
   "source": [
    "best_test_accuracy = 0\n",
    "for epoch in range(Config.epoch):\n",
    "    model.train()\n",
    "    total_loss = []\n",
    "    total_right = 0\n",
    "    for batch in tqdm(train_dataloader):\n",
    "        sentences, labels = batch[0], batch[1].to(device)\n",
    "        outputs = model(sentences)\n",
    "        loss = criterion(outputs, labels)\n",
    "        loss.backward()\n",
    "        optimizer.step()\n",
    "        optimizer.zero_grad()\n",
    "        total_loss.append(loss.detach().cpu().numpy())\n",
    "        predictions = torch.argmax(outputs, dim=1).cpu().tolist()\n",
    "        labels = labels.cpu().tolist()\n",
    "        total_right += sum([True if predictions[i] == labels[i] else False for i in range(len(labels))])\n",
    "    print(f\"Epoch: {epoch+1}, Train loss: {np.mean(total_loss):.4f}, Train accuracy: {total_right/len(train_dataset):.4f}\")\n",
    "    \n",
    "    model.eval()\n",
    "    total_loss = []\n",
    "    total_right = 0\n",
    "    for batch in tqdm(test_dataloader):\n",
    "        sentences, labels = batch[0], batch[1].to(device)\n",
    "        outputs = model(sentences)\n",
    "        loss = criterion(outputs, labels)\n",
    "        total_loss.append(loss.detach().cpu().numpy())\n",
    "        predictions = torch.argmax(outputs, dim=1).cpu().tolist()\n",
    "        labels = labels.cpu().tolist()\n",
    "        total_right += sum([True if predictions[i] == labels[i] else False for i in range(len(labels))])\n",
    "    print(f\"Epoch: {epoch+1}, Test loss: {np.mean(total_loss):.4f}, Test accuracy: {total_right/len(test_dataset):.4f}\")\n",
    "    if total_right/len(test_dataset) > best_test_accuracy:\n",
    "        best_test_accuracy = total_right/len(test_dataset)\n",
    "        print(f\"saving best model...\")\n",
    "        torch.save(model, Config.save_path)\n",
    "print(f\"Training Done. Best test accuracy: {best_test_accuracy:.4f}\")"
   ]
  },
  {
   "cell_type": "code",
   "execution_count": 7,
   "metadata": {},
   "outputs": [],
   "source": [
    "import torch\n",
    "from config import Config\n",
    "model = torch.load(Config.save_path)"
   ]
  },
  {
   "cell_type": "code",
   "execution_count": 11,
   "metadata": {},
   "outputs": [
    {
     "name": "stderr",
     "output_type": "stream",
     "text": [
      "  0%|          | 0/22 [00:00<?, ?it/s]\n"
     ]
    }
   ],
   "source": [
    "for batch in tqdm(train_dataloader):\n",
    "    break"
   ]
  },
  {
   "cell_type": "code",
   "execution_count": 22,
   "metadata": {},
   "outputs": [
    {
     "data": {
      "text/plain": [
       "('想签约又不敢签约',)"
      ]
     },
     "execution_count": 22,
     "metadata": {},
     "output_type": "execute_result"
    }
   ],
   "source": [
    "batch[0][1:2]"
   ]
  },
  {
   "cell_type": "code",
   "execution_count": 25,
   "metadata": {},
   "outputs": [],
   "source": [
    "text = '想签约又不敢签约'"
   ]
  },
  {
   "cell_type": "code",
   "execution_count": 37,
   "metadata": {},
   "outputs": [],
   "source": [
    "output = model((text,))"
   ]
  },
  {
   "cell_type": "code",
   "execution_count": 38,
   "metadata": {},
   "outputs": [
    {
     "data": {
      "text/plain": [
       "torch.Size([1, 7])"
      ]
     },
     "execution_count": 38,
     "metadata": {},
     "output_type": "execute_result"
    }
   ],
   "source": [
    "output.shape"
   ]
  },
  {
   "cell_type": "code",
   "execution_count": 55,
   "metadata": {},
   "outputs": [],
   "source": [
    "prediction = torch.argmax(output, dim=1).tolist()[0]"
   ]
  },
  {
   "cell_type": "code",
   "execution_count": 59,
   "metadata": {},
   "outputs": [
    {
     "data": {
      "text/plain": [
       "0.9993461966514587"
      ]
     },
     "execution_count": 59,
     "metadata": {},
     "output_type": "execute_result"
    }
   ],
   "source": [
    "torch.nn.functional.softmax(output, dim=1).tolist()[0][prediction]"
   ]
  },
  {
   "cell_type": "code",
   "execution_count": null,
   "metadata": {},
   "outputs": [],
   "source": []
  }
 ],
 "metadata": {
  "interpreter": {
   "hash": "a8f61be024eba58adef938c9aa1e29e02cb3dece83a5348b1a2dafd16a070453"
  },
  "kernelspec": {
   "display_name": "Python 3.8.3 64-bit ('base': conda)",
   "language": "python",
   "name": "python3"
  },
  "language_info": {
   "codemirror_mode": {
    "name": "ipython",
    "version": 3
   },
   "file_extension": ".py",
   "mimetype": "text/x-python",
   "name": "python",
   "nbconvert_exporter": "python",
   "pygments_lexer": "ipython3",
   "version": "3.8.5"
  },
  "orig_nbformat": 4
 },
 "nbformat": 4,
 "nbformat_minor": 2
}